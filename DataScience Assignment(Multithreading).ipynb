{
 "cells": [
  {
   "cell_type": "code",
   "execution_count": 1,
   "id": "82f82fd4-76e8-4813-ae25-7cd6ab07aad0",
   "metadata": {},
   "outputs": [],
   "source": [
    "#python assignment(Multithreading)"
   ]
  },
  {
   "cell_type": "markdown",
   "id": "48a19034-f3ba-403a-9ec8-c627349018cd",
   "metadata": {},
   "source": [
    "Question-1- what is multithreading in python? hy is it used? Name the module used to handle threads in python"
   ]
  },
  {
   "cell_type": "markdown",
   "id": "2f0c69d2-8b66-48c5-a8ac-84eee7a0787c",
   "metadata": {},
   "source": [
    "Answer-1-Multithreading in Python refers to the concurrent execution of multiple threads within a single Python process. Each thread is an independent unit of execution that can run concurrently with other threads. Multithreading is used to achieve parallelism in Python programs, allowing them to perform multiple tasks simultaneously, particularly in scenarios where tasks can be executed independently and concurrently."
   ]
  },
  {
   "cell_type": "markdown",
   "id": "f1f12af6-337e-483b-8234-1ee7d11212c0",
   "metadata": {},
   "source": [
    "(1)-Concurrency: Multithreading enables concurrent execution of tasks, which can lead to improved program responsiveness and performance. This is especially valuable when dealing with I/O-bound operations"
   ]
  },
  {
   "cell_type": "markdown",
   "id": "ca13acbd-86a7-4bb2-b826-49d4841ff80d",
   "metadata": {},
   "source": [
    "(2)-Utilizing Multiple CPU Cores: In multi-core processors, multithreading allows Python programs to take advantage of multiple CPU cores, distributing tasks across cores for parallel processing. This can significantly speed up CPU-bound tasks."
   ]
  },
  {
   "cell_type": "markdown",
   "id": "ab79980a-019e-4561-b32b-79d876dae153",
   "metadata": {},
   "source": [
    "(3)-Responsive User Interfaces: In graphical user interface (GUI) applications, multithreading can be used to keep the user interface responsive while background tasks are executed in separate threads"
   ]
  },
  {
   "cell_type": "markdown",
   "id": "c3b15fb4-7152-4311-af71-d73f456d9d3b",
   "metadata": {},
   "source": [
    "(4)-Concurrency Control: Multithreading can help manage and coordinate concurrent access to shared resources, such as data structures or hardware devices, by using synchronization mechanisms like locks and semaphores."
   ]
  },
  {
   "cell_type": "markdown",
   "id": "640f3cf4-0645-47aa-8c93-b62deeede44d",
   "metadata": {},
   "source": [
    "Question-2-why threading module used? rite the use of the following functions.\n",
    "1-active count()\n",
    "2- current Thread()\n",
    "3-enumerate()"
   ]
  },
  {
   "cell_type": "markdown",
   "id": "2ae211ac-3fe2-452b-a6f4-a43fdf0fe4af",
   "metadata": {},
   "source": [
    "Answer-2-The threading module in Python is used for managing threads in a Python program. It provides a high-level interface to create, manage, and synchronize threads"
   ]
  },
  {
   "cell_type": "code",
   "execution_count": 3,
   "id": "a18ac5ce-5d35-4ce9-8b74-b993ee50b8e3",
   "metadata": {},
   "outputs": [],
   "source": [
    "#activecount()"
   ]
  },
  {
   "cell_type": "code",
   "execution_count": 4,
   "id": "8cab9c0c-020c-48ad-bdeb-38b71ceed792",
   "metadata": {},
   "outputs": [],
   "source": [
    "import threading\n",
    "import logging"
   ]
  },
  {
   "cell_type": "code",
   "execution_count": 5,
   "id": "930096b9-573d-406b-9f5c-f59089b32148",
   "metadata": {},
   "outputs": [],
   "source": [
    "logging.basicConfig(filename='threading_log.log', level=logging.INFO)\n",
    "\n",
    "def my_thread_function():\n",
    "    pass\n",
    "\n",
    "thread1 = threading.Thread(target=my_thread_function)\n",
    "thread2 = threading.Thread(target=my_thread_function)\n",
    "\n",
    "thread1.start()\n",
    "thread2.start()\n",
    "\n",
    "active_threads = threading.active_count()\n",
    "logging.info(f\"Active threads: {active_threads}\")"
   ]
  },
  {
   "cell_type": "code",
   "execution_count": 6,
   "id": "47afd81f-4cb5-4e84-9741-d53189fa7124",
   "metadata": {},
   "outputs": [],
   "source": [
    "#currentThread()"
   ]
  },
  {
   "cell_type": "code",
   "execution_count": 7,
   "id": "252b9f69-dea4-43fc-a208-13da5f72092f",
   "metadata": {},
   "outputs": [],
   "source": [
    "import threading\n",
    "import logging"
   ]
  },
  {
   "cell_type": "code",
   "execution_count": 8,
   "id": "ac6c3e47-4285-4506-b3f0-632fa3083a0c",
   "metadata": {},
   "outputs": [],
   "source": [
    "logging.basicConfig(filename='threading_log.log', level=logging.INFO)\n",
    "\n",
    "def my_thread_function():\n",
    "    current_thread = threading.current_thread()\n",
    "    logging.info(f\"Current thread: {current_thread.name}\")\n",
    "\n",
    "thread = threading.Thread(target=my_thread_function)\n",
    "thread.start()"
   ]
  },
  {
   "cell_type": "code",
   "execution_count": 9,
   "id": "75dbd6f1-a2f6-4ff7-9774-44aad0b744c0",
   "metadata": {},
   "outputs": [],
   "source": [
    "#enumerate()"
   ]
  },
  {
   "cell_type": "code",
   "execution_count": 10,
   "id": "f5ea09e2-cd4e-451a-9694-67a57026eaed",
   "metadata": {},
   "outputs": [],
   "source": [
    "import threading\n",
    "import logging"
   ]
  },
  {
   "cell_type": "code",
   "execution_count": 11,
   "id": "b94ee721-1398-4e22-aed5-2c23eabdef0f",
   "metadata": {},
   "outputs": [],
   "source": [
    "logging.basicConfig(filename='threading_log.log', level=logging.INFO)\n",
    "\n",
    "def my_thread_function():\n",
    "    pass\n",
    "\n",
    "threads = [threading.Thread(target=my_thread_function) for _ in range(3)]\n",
    "\n",
    "for thread in threads:\n",
    "    thread.start()\n",
    "\n",
    "alive_threads = threading.enumerate()\n",
    "\n",
    "for thread in alive_threads:\n",
    "    logging.info(f\"Alive thread: {thread.name}\")"
   ]
  },
  {
   "cell_type": "markdown",
   "id": "67ccd4d3-5a91-4b77-83de-a9bc292c626e",
   "metadata": {},
   "source": [
    "Question-3- Explain the following functions\n",
    "1-run()\n",
    "2-start()\n",
    "3-join()\n",
    "4-isAlive()"
   ]
  },
  {
   "cell_type": "markdown",
   "id": "f3b49305-7493-4234-b6b9-c3f2aa6ec3ac",
   "metadata": {},
   "source": [
    "The mentioned functions (run(), start(), join(), and isAlive()) are related to thread management in Python when using the threading module. When combined with logging, they can help you monitor and control thread behavior effectively"
   ]
  },
  {
   "cell_type": "code",
   "execution_count": 19,
   "id": "bf66ca45-7bd8-4b20-9c49-a21cab07e191",
   "metadata": {},
   "outputs": [],
   "source": [
    "#run()"
   ]
  },
  {
   "cell_type": "code",
   "execution_count": 16,
   "id": "b3b5eec6-24d1-4034-b806-ed9060521251",
   "metadata": {},
   "outputs": [],
   "source": [
    "import threading\n",
    "import logging\n",
    "\n",
    "logging.basicConfig(filename='threading_log.log', level=logging.INFO)\n",
    "\n",
    "class MyThread(threading.Thread):\n",
    "    def run(self):\n",
    "        logging.info(f\"{self.name} is executing.\")"
   ]
  },
  {
   "cell_type": "code",
   "execution_count": 17,
   "id": "e9d86ca5-d2d1-4a59-8283-2332e06935c1",
   "metadata": {},
   "outputs": [],
   "source": [
    "thread = MyThread()"
   ]
  },
  {
   "cell_type": "code",
   "execution_count": 18,
   "id": "b6f5b4c8-e464-406f-9b07-26ef450a7612",
   "metadata": {},
   "outputs": [],
   "source": [
    "thread.start()"
   ]
  },
  {
   "cell_type": "code",
   "execution_count": 20,
   "id": "50aacf51-601a-4e58-8323-249db76bdf5f",
   "metadata": {},
   "outputs": [],
   "source": [
    "#start()"
   ]
  },
  {
   "cell_type": "code",
   "execution_count": 21,
   "id": "1e4f9390-a783-44e1-a40e-a5d6dd8a5b47",
   "metadata": {},
   "outputs": [],
   "source": [
    "import threading\n",
    "import logging\n",
    "\n",
    "logging.basicConfig(filename='threading_log.log', level=logging.INFO)\n",
    "\n",
    "class MyThread(threading.Thread):\n",
    "    def run(self):\n",
    "        logging.info(f\"{self.name} is executing.\")"
   ]
  },
  {
   "cell_type": "code",
   "execution_count": 22,
   "id": "0128fb73-599b-46c4-815d-d90fec0dda48",
   "metadata": {},
   "outputs": [],
   "source": [
    "thread = MyThread()"
   ]
  },
  {
   "cell_type": "code",
   "execution_count": 23,
   "id": "5d3b6969-2177-4d12-a885-fa5ef78f41d0",
   "metadata": {},
   "outputs": [],
   "source": [
    "thread.start()"
   ]
  },
  {
   "cell_type": "code",
   "execution_count": 24,
   "id": "b8e467da-0427-4757-ace2-d65a3a3a9bc8",
   "metadata": {},
   "outputs": [],
   "source": [
    "#join()"
   ]
  },
  {
   "cell_type": "code",
   "execution_count": 25,
   "id": "6e4eb418-7c73-4b99-96a2-3f599e28c118",
   "metadata": {},
   "outputs": [],
   "source": [
    "import threading\n",
    "import logging"
   ]
  },
  {
   "cell_type": "code",
   "execution_count": 26,
   "id": "fb897345-b86f-485b-86b1-6b1655be62a8",
   "metadata": {},
   "outputs": [],
   "source": [
    "logging.basicConfig(filename='threading_log.log', level=logging.INFO)\n",
    "\n",
    "class MyThread(threading.Thread):\n",
    "    def run(self):\n",
    "        logging.info(f\"{self.name} is executing.\")"
   ]
  },
  {
   "cell_type": "code",
   "execution_count": 27,
   "id": "ac7c2e38-9d47-4efe-ac64-1322204ddf52",
   "metadata": {},
   "outputs": [],
   "source": [
    "thread = MyThread()"
   ]
  },
  {
   "cell_type": "code",
   "execution_count": 28,
   "id": "d6b73142-3f08-4772-819b-f638d54ef3de",
   "metadata": {},
   "outputs": [],
   "source": [
    "thread.start()"
   ]
  },
  {
   "cell_type": "code",
   "execution_count": 29,
   "id": "80e2e603-847f-4bbb-9d94-f9f842f9ce2e",
   "metadata": {},
   "outputs": [],
   "source": [
    "thread.join()"
   ]
  },
  {
   "cell_type": "code",
   "execution_count": 30,
   "id": "4db5ec13-1faf-4b78-96f8-cabd7c45b461",
   "metadata": {},
   "outputs": [],
   "source": [
    "logging.info(f\"{thread.name} has completed.\")"
   ]
  },
  {
   "cell_type": "code",
   "execution_count": 31,
   "id": "e31ae895-c2c6-480c-b3b3-1cd1854e57e3",
   "metadata": {},
   "outputs": [],
   "source": [
    "#isAlive()"
   ]
  },
  {
   "cell_type": "code",
   "execution_count": 50,
   "id": "2f124058-2ba9-4ab4-9e51-6b68875285e6",
   "metadata": {},
   "outputs": [],
   "source": [
    "import threading\n",
    "import logging\n",
    "import time"
   ]
  },
  {
   "cell_type": "code",
   "execution_count": 51,
   "id": "a804f52e-dbf6-4845-80b8-b0a1ddbf5680",
   "metadata": {},
   "outputs": [],
   "source": [
    "logging.basicConfig(filename='threading_log.log', level=logging.INFO)\n",
    "\n",
    "class MyThread(threading.Thread):\n",
    "    def run(self):\n",
    "        time.sleep(2)\n",
    "        logging.info(f\"{self.name} is executing.\")"
   ]
  },
  {
   "cell_type": "code",
   "execution_count": 52,
   "id": "5176b47f-fbc5-4d38-ab95-6e74b3ea4905",
   "metadata": {},
   "outputs": [],
   "source": [
    "thread = MyThread()"
   ]
  },
  {
   "cell_type": "code",
   "execution_count": 53,
   "id": "0cb7bbec-e384-4970-a7ed-9e77cc7ecd15",
   "metadata": {},
   "outputs": [],
   "source": [
    "thread.start()"
   ]
  },
  {
   "cell_type": "code",
   "execution_count": 56,
   "id": "fa267de2-786b-42e7-af0a-f0dbcc6ec845",
   "metadata": {},
   "outputs": [
    {
     "ename": "AttributeError",
     "evalue": "'MyThread' object has no attribute 'isAlive'",
     "output_type": "error",
     "traceback": [
      "\u001b[0;31m---------------------------------------------------------------------------\u001b[0m",
      "\u001b[0;31mAttributeError\u001b[0m                            Traceback (most recent call last)",
      "Cell \u001b[0;32mIn[56], line 1\u001b[0m\n\u001b[0;32m----> 1\u001b[0m \u001b[38;5;28;01mif\u001b[39;00m \u001b[43mthread\u001b[49m\u001b[38;5;241;43m.\u001b[39;49m\u001b[43misAlive\u001b[49m():\n\u001b[1;32m      2\u001b[0m     logging\u001b[38;5;241m.\u001b[39minfo(\u001b[38;5;124mf\u001b[39m\u001b[38;5;124m\"\u001b[39m\u001b[38;5;132;01m{\u001b[39;00mthread\u001b[38;5;241m.\u001b[39mname\u001b[38;5;132;01m}\u001b[39;00m\u001b[38;5;124m is still running.\u001b[39m\u001b[38;5;124m\"\u001b[39m)\n\u001b[1;32m      3\u001b[0m \u001b[38;5;28;01melse\u001b[39;00m:\n",
      "\u001b[0;31mAttributeError\u001b[0m: 'MyThread' object has no attribute 'isAlive'"
     ]
    }
   ],
   "source": [
    "if thread.isAlive():\n",
    "    logging.info(f\"{thread.name} is still running.\")\n",
    "else:\n",
    "    logging.info(f\"{thread.name} has completed.\")"
   ]
  },
  {
   "cell_type": "markdown",
   "id": "13137e50-5528-4b4c-921b-e54be248769e",
   "metadata": {},
   "source": [
    "Question-4- write a python program to create two threads. Thread one must print the list of squares and thread\n",
    "two must print the list of cubes"
   ]
  },
  {
   "cell_type": "markdown",
   "id": "727f6c3d-6dc7-4525-84c0-a5fd10d4bc08",
   "metadata": {},
   "source": [
    "Answer-4-"
   ]
  },
  {
   "cell_type": "code",
   "execution_count": 57,
   "id": "7d0ac839-1974-447c-ae71-94bfa9c3bf78",
   "metadata": {},
   "outputs": [],
   "source": [
    "import threading\n",
    "import logging"
   ]
  },
  {
   "cell_type": "code",
   "execution_count": 58,
   "id": "5113ac69-d147-4fa2-a27c-fbb54c38d5ec",
   "metadata": {},
   "outputs": [],
   "source": [
    "logging.basicConfig(filename='squares_and_cubes_log.log', level=logging.INFO)\n",
    "\n",
    "def print_squares():\n",
    "    logging.info(\"Thread 1 (Squares) started.\")\n",
    "    for i in range(1, 6):\n",
    "        square = i ** 2\n",
    "        logging.info(f\"Square of {i} is {square}\")\n",
    "\n",
    "def print_cubes():\n",
    "    logging.info(\"Thread 2 (Cubes) started.\")\n",
    "    for i in range(1, 6):\n",
    "        cube = i ** 3\n",
    "        logging.info(f\"Cube of {i} is {cube}\")"
   ]
  },
  {
   "cell_type": "code",
   "execution_count": 59,
   "id": "9972cc81-0852-488c-bc9f-57bdcb19d54e",
   "metadata": {},
   "outputs": [],
   "source": [
    "thread1 = threading.Thread(target=print_squares)"
   ]
  },
  {
   "cell_type": "code",
   "execution_count": 60,
   "id": "24263d0d-dea5-42c5-8a07-944b4d673043",
   "metadata": {},
   "outputs": [],
   "source": [
    "thread2 = threading.Thread(target=print_cubes)"
   ]
  },
  {
   "cell_type": "code",
   "execution_count": 61,
   "id": "5583be40-1128-46ad-ae64-360b8fe1dadb",
   "metadata": {},
   "outputs": [],
   "source": [
    "thread1.start()"
   ]
  },
  {
   "cell_type": "code",
   "execution_count": 62,
   "id": "5c160329-d295-4320-aa7f-a145be0d6f5f",
   "metadata": {},
   "outputs": [],
   "source": [
    "thread2.start()"
   ]
  },
  {
   "cell_type": "code",
   "execution_count": 63,
   "id": "ca0ddd39-d85d-486e-a9fa-a1e60c950bd8",
   "metadata": {},
   "outputs": [],
   "source": [
    "thread1.join()"
   ]
  },
  {
   "cell_type": "code",
   "execution_count": 64,
   "id": "53c927dc-d84b-4ac1-8dc0-ac29d769aa65",
   "metadata": {},
   "outputs": [],
   "source": [
    "thread2.join()"
   ]
  },
  {
   "cell_type": "code",
   "execution_count": 65,
   "id": "3d0a0ed1-0733-40c7-8bbb-625b95025d00",
   "metadata": {},
   "outputs": [],
   "source": [
    "logging.info(\"Main thread exits.\")"
   ]
  },
  {
   "cell_type": "markdown",
   "id": "228ff408-4b6d-4d8b-b641-86844bb32b14",
   "metadata": {},
   "source": [
    "Question-5- State advantages and disadvantages of multithreading"
   ]
  },
  {
   "cell_type": "markdown",
   "id": "a4e5f2fb-8a3f-41de-8079-7581590794a7",
   "metadata": {},
   "source": [
    "Answer-5-"
   ]
  },
  {
   "cell_type": "code",
   "execution_count": 66,
   "id": "44d9f3a0-09cc-425b-8330-79f6698a4fe5",
   "metadata": {},
   "outputs": [],
   "source": [
    "#Advantages of Multithreading:"
   ]
  },
  {
   "cell_type": "markdown",
   "id": "3ad685ee-1012-4e8d-b555-ad6bba713add",
   "metadata": {},
   "source": [
    "(1)-Improved Performance: Multithreading can lead to better performance, especially on multi-core processors, by allowing multiple threads to execute simultaneously. This can result in faster execution of tasks.\n",
    "\n",
    "(2)-Responsiveness: Multithreading can make an application more responsive by allowing certain tasks to run in the background while the main thread continues to handle user interactions and respond to events.\n",
    "\n",
    "(3)-Efficient Resource Utilization: Threads share the same process memory space, making it more memory-efficient compared to processes. This can be beneficial when multiple tasks need to share data and resources.\n",
    "\n",
    "(4)-Simplified Code: Multithreading can simplify the code by allowing you to structure programs with multiple concurrent flows of control, which can be more intuitive for certain tasks.\n",
    "\n",
    "(5)-Parallelism: Multithreading is suitable for parallelism when tasks can be executed independently. This can significantly speed up CPU-bound operations."
   ]
  },
  {
   "cell_type": "code",
   "execution_count": 67,
   "id": "1935585c-3248-400a-9fa3-955af08df7d2",
   "metadata": {},
   "outputs": [],
   "source": [
    "#Disadvantages of Multithreading:"
   ]
  },
  {
   "cell_type": "markdown",
   "id": "3f360e9d-d74e-4621-ae63-d20c15d95310",
   "metadata": {},
   "source": [
    "(1)-Complexity: Multithreaded programs can be challenging to develop, debug, and maintain. Race conditions, deadlocks, and other synchronization issues can be hard to identify and resolve.\n",
    "\n",
    "(2)-Resource Conflicts: Multiple threads sharing resources can lead to conflicts, such as data corruption or inconsistent states, if not properly synchronized.\n",
    "\n",
    "(3)-Debugging Complexity: Debugging multithreaded applications can be difficult, as issues may not be consistently reproducible and can depend on timing and thread interleaving.\n",
    "\n",
    "(4)-Overhead: Creating and managing threads comes with some overhead in terms of memory and CPU usage. For simple tasks, the overhead of creating threads may outweigh the benefits of parallelism.\n",
    "\n",
    "(5)-Limited Scaling: While multithreading can provide performance improvements, it may not scale indefinitely. As the number of threads increases, managing them and avoiding contention for resources becomes more challenging.\n",
    "\n",
    "(6)-Platform Dependence: Multithreading behavior can be platform-dependent, making it important to consider cross-platform compatibility when developing multithreaded applications."
   ]
  },
  {
   "cell_type": "markdown",
   "id": "3a506cea-e397-43b3-89ee-3ef86a1cb045",
   "metadata": {},
   "source": [
    "Question-6- Explain deadlocks and race conditions."
   ]
  },
  {
   "cell_type": "markdown",
   "id": "36c5d625-2d48-4ce0-8bc0-a9dcdce1685a",
   "metadata": {},
   "source": [
    "Answer-6-Deadlocks and race conditions are two common concurrency-related problems that can occur in multithreaded or multi-process programs. They can lead to unexpected and undesirable behavior in your software"
   ]
  },
  {
   "cell_type": "code",
   "execution_count": 68,
   "id": "dfa8e445-8d46-4108-a993-3effa5f06624",
   "metadata": {},
   "outputs": [],
   "source": [
    "#1. Deadlock:"
   ]
  },
  {
   "cell_type": "markdown",
   "id": "236da41d-b5c2-4d63-ad23-58e85e8b67ec",
   "metadata": {},
   "source": [
    "A deadlock is a situation in which two or more threads or processes are unable to proceed because they are each waiting for the other(s) to release a resource or complete a task. In other words, it's a scenario where multiple entities are stuck in a circular wait for a resource, and none of them can make progress"
   ]
  },
  {
   "cell_type": "code",
   "execution_count": 69,
   "id": "1ca4920f-f60b-4de3-8b65-f49c1e84871c",
   "metadata": {},
   "outputs": [],
   "source": [
    "#2. Race Condition:"
   ]
  },
  {
   "cell_type": "markdown",
   "id": "366056ed-1ef5-42ac-9596-eb30f9f79cd6",
   "metadata": {},
   "source": [
    "A race condition is a situation where the behavior of a program depends on the relative timing of events, such as the order in which threads or processes are scheduled to run. It occurs when multiple threads or processes access shared data concurrently, and at least one of them modifies the dat"
   ]
  },
  {
   "cell_type": "code",
   "execution_count": null,
   "id": "c75a4071-5ebc-4b86-b328-b5854e16c99d",
   "metadata": {},
   "outputs": [],
   "source": []
  }
 ],
 "metadata": {
  "kernelspec": {
   "display_name": "Python 3 (ipykernel)",
   "language": "python",
   "name": "python3"
  },
  "language_info": {
   "codemirror_mode": {
    "name": "ipython",
    "version": 3
   },
   "file_extension": ".py",
   "mimetype": "text/x-python",
   "name": "python",
   "nbconvert_exporter": "python",
   "pygments_lexer": "ipython3",
   "version": "3.10.8"
  }
 },
 "nbformat": 4,
 "nbformat_minor": 5
}
